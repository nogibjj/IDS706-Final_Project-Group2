{
 "cells": [
  {
   "cell_type": "code",
   "execution_count": 2,
   "metadata": {},
   "outputs": [],
   "source": [
    "# import the packages needed for streamlit\n",
    "import streamlit as st\n",
    "import pandas as pd\n",
    "import numpy as np\n",
    "import matplotlib.pyplot as plt\n",
    "import seaborn as sns\n"
   ]
  },
  {
   "cell_type": "code",
   "execution_count": 3,
   "metadata": {},
   "outputs": [],
   "source": [
    "# import the packages needed for the model\n",
    "from sklearn.model_selection import train_test_split\n",
    "from sklearn.preprocessing import StandardScaler\n",
    "from sklearn.linear_model import LogisticRegression\n",
    "from sklearn.metrics import confusion_matrix, classification_report\n",
    "from sklearn.metrics import roc_curve, roc_auc_score\n",
    "from sklearn.metrics import accuracy_score\n",
    "from sklearn.metrics import precision_score\n",
    "from sklearn.metrics import recall_score\n",
    "from sklearn.metrics import f1_score\n",
    "from sklearn.metrics import precision_recall_curve"
   ]
  },
  {
   "cell_type": "code",
   "execution_count": 4,
   "metadata": {},
   "outputs": [
    {
     "name": "stderr",
     "output_type": "stream",
     "text": [
      "2022-12-12 19:49:27.654 \n",
      "  \u001b[33m\u001b[1mWarning:\u001b[0m to view this Streamlit app on a browser, run it with the following\n",
      "  command:\n",
      "\n",
      "    streamlit run /opt/miniconda3/lib/python3.10/site-packages/ipykernel_launcher.py [ARGUMENTS]\n"
     ]
    },
    {
     "name": "stdout",
     "output_type": "stream",
     "text": [
      "<class 'pandas.core.frame.DataFrame'>\n",
      "RangeIndex: 537 entries, 0 to 536\n",
      "Data columns (total 5 columns):\n",
      " #   Column                         Non-Null Count  Dtype  \n",
      "---  ------                         --------------  -----  \n",
      " 0   Date                           537 non-null    object \n",
      " 1   Daily transactions amount      537 non-null    float64\n",
      " 2   Daily Fraudulent Transactions  537 non-null    int64  \n",
      " 3   Daily Fraudulent amount        537 non-null    float64\n",
      " 4   Daily transactions Count       537 non-null    int64  \n",
      "dtypes: float64(2), int64(2), object(1)\n",
      "memory usage: 21.1+ KB\n"
     ]
    }
   ],
   "source": [
    "# start to build the streamlit app\n",
    "st.title('Credit Card Fraud Detection')\n",
    "st.write('This is a machine learning model to detect credit card fraud.')\n",
    "st.write('The dataset is from Kaggle: https://www.kaggle.com/mlg-ulb/creditcardfraud')\n",
    "st.write('The model is built by using Logistic Regression.')\n",
    "st.write('The model is trained by using the training dataset, and the model is tested by using the testing dataset.')\n",
    "st.write('The model is evaluated by using the testing dataset.')\n",
    "st.write('The model is deployed by using streamlit.')\n",
    "\n",
    "# read the dataset\n",
    "df = pd.read_csv('./Training cleaned/Daily_train_cleaned.csv')\n",
    "\n",
    "# show the dataset\n",
    "st.subheader('Dataset')\n",
    "st.write(df)\n",
    "\n",
    "# show the dataset information\n",
    "st.subheader('Dataset Information')\n",
    "st.write(df.info())\n",
    "\n",
    "# show the dataset description\n",
    "st.subheader('Dataset Description')\n",
    "st.write(df.describe())\n",
    "\n",
    "# show the dataset shape\n",
    "st.subheader('Dataset Shape')\n",
    "st.write(df.shape)\n",
    "\n",
    "# show the dataset columns\n",
    "st.subheader('Dataset Columns')\n",
    "st.write(df.columns)\n"
   ]
  },
  {
   "cell_type": "markdown",
   "metadata": {},
   "source": [
    "## Delete following code"
   ]
  },
  {
   "cell_type": "code",
   "execution_count": null,
   "metadata": {},
   "outputs": [],
   "source": [
    "sns.distplot(df['Daily transactions Count'])\n",
    "# put the plot into streamlit\n",
    "st.pyplot()\n",
    "\n",
    "# show the dataset correlation\n",
    "st.subheader('Dataset Correlation')\n",
    "st.write(df.corr())\n",
    "\n",
    "\n",
    "# show the dataset correlation heatmap\n",
    "st.subheader('Dataset Correlation Heatmap')\n",
    "sns.heatmap(df.corr(), annot=True)\n",
    "st.pyplot()\n",
    "\n",
    "\n"
   ]
  },
  {
   "cell_type": "markdown",
   "metadata": {},
   "source": [
    "## New Start"
   ]
  },
  {
   "cell_type": "code",
   "execution_count": 5,
   "metadata": {},
   "outputs": [],
   "source": [
    "# # plot the dataset correlation heatmap with user input\n",
    "# st.subheader('Dataset Correlation Heatmap with User Input')\n",
    "# st.write('Please input the column name you want to see the correlation heatmap.')\n",
    "# st.write('For example, you can input \"Daily transactions Count\" to see the correlation heatmap of \"Daily transactions Count\".')\n",
    "# st.write('You can also input \"Daily transactions Amount\" to see the correlation heatmap of \"Daily transactions Amount\".')\n",
    "# st.write('You can also input \"Daily transactions Count\" and \"Daily transactions Amount\" to see the correlation heatmap of \"Daily transactions Count\" and \"Daily transactions Amount\".')\n",
    "\n",
    "# # get the user input\n",
    "# user_input = st.text_input('Please input the column name you want to see the correlation heatmap.')\n",
    "\n",
    "# # plot the dataset correlation heatmap with user input\n",
    "# if user_input:\n",
    "#     sns.heatmap(df[user_input].corr(), annot=True)\n",
    "#     st.pyplot()\n",
    "\n",
    "\n",
    "# # show the dataset correlation heatmap with user input\n",
    "# st.subheader('Dataset Correlation with User Input')\n",
    "# st.write('Please input the column name you want to see the correlation.')\n",
    "# st.write('For example, you can input \"Daily transactions Count\" to see the correlation of \"Daily transactions Count\".')\n",
    "# st.write('You can also input \"Daily transactions Amount\" to see the correlation of \"Daily transactions Amount\".')\n"
   ]
  },
  {
   "cell_type": "code",
   "execution_count": null,
   "metadata": {},
   "outputs": [],
   "source": []
  }
 ],
 "metadata": {
  "kernelspec": {
   "display_name": "Python 3.10.6 ('base')",
   "language": "python",
   "name": "python3"
  },
  "language_info": {
   "codemirror_mode": {
    "name": "ipython",
    "version": 3
   },
   "file_extension": ".py",
   "mimetype": "text/x-python",
   "name": "python",
   "nbconvert_exporter": "python",
   "pygments_lexer": "ipython3",
   "version": "3.10.6"
  },
  "orig_nbformat": 4,
  "vscode": {
   "interpreter": {
    "hash": "3d597f4c481aa0f25dceb95d2a0067e73c0966dcbd003d741d821a7208527ecf"
   }
  }
 },
 "nbformat": 4,
 "nbformat_minor": 2
}
